{
  "nbformat": 4,
  "nbformat_minor": 0,
  "metadata": {
    "colab": {
      "name": "datacuration.ipynb",
      "provenance": [],
      "collapsed_sections": []
    },
    "kernelspec": {
      "name": "python3",
      "display_name": "Python 3"
    },
    "language_info": {
      "name": "python"
    }
  },
  "cells": [
    {
      "cell_type": "code",
      "source": [
        "from google.colab import drive\n",
        "import pandas as pd\n",
        "\n",
        "drive.mount('/gdrive')\n",
        "# the project's folder\n",
        "%cd /gdrive/'My Drive'/DataCuration\n",
        "%ls\n",
        "\n",
        "df = pd.read_csv(\"311Requests2021.csv\")\n",
        "\n",
        "\n",
        "#Get data from other files to populate missing values based on location boundaries\n",
        "\n",
        "policeBeats = pd.read_csv(\"PoliceBeatDec2012.csv\")\n",
        "communityArea = pd.read_csv(\"CommAreas.csv\")\n",
        "wards = pd.read_csv(\"WARDS_2015.csv\")\n"
      ],
      "metadata": {
        "colab": {
          "base_uri": "https://localhost:8080/"
        },
        "id": "eP-N8Fo-67H_",
        "outputId": "555ff657-ee50-4df8-8434-a82ce4e3dc11"
      },
      "execution_count": null,
      "outputs": [
        {
          "output_type": "stream",
          "name": "stdout",
          "text": [
            "Drive already mounted at /gdrive; to attempt to forcibly remount, call drive.mount(\"/gdrive\", force_remount=True).\n",
            "/gdrive/My Drive/DataCuration\n",
            "311Requests2021.csv  CommAreas.csv  PoliceBeatDec2012.csv  WARDS_2015.csv\n"
          ]
        },
        {
          "output_type": "stream",
          "name": "stderr",
          "text": [
            "/usr/local/lib/python3.7/dist-packages/IPython/core/interactiveshell.py:2882: DtypeWarning: Columns (12) have mixed types.Specify dtype option on import or set low_memory=False.\n",
            "  exec(code_obj, self.user_global_ns, self.user_ns)\n"
          ]
        }
      ]
    },
    {
      "cell_type": "code",
      "execution_count": null,
      "metadata": {
        "colab": {
          "base_uri": "https://localhost:8080/"
        },
        "id": "RWhvYatlw1hC",
        "outputId": "b573f3e4-0f50-4153-e8b6-d83366ec9609"
      },
      "outputs": [
        {
          "output_type": "stream",
          "name": "stdout",
          "text": [
            "Requirement already satisfied: geopandas in /usr/local/lib/python3.7/dist-packages (0.10.2)\n",
            "Requirement already satisfied: pyproj>=2.2.0 in /usr/local/lib/python3.7/dist-packages (from geopandas) (3.2.1)\n",
            "Requirement already satisfied: shapely>=1.6 in /usr/local/lib/python3.7/dist-packages (from geopandas) (1.8.1.post1)\n",
            "Requirement already satisfied: fiona>=1.8 in /usr/local/lib/python3.7/dist-packages (from geopandas) (1.8.21)\n",
            "Requirement already satisfied: pandas>=0.25.0 in /usr/local/lib/python3.7/dist-packages (from geopandas) (1.3.5)\n",
            "Requirement already satisfied: setuptools in /usr/local/lib/python3.7/dist-packages (from fiona>=1.8->geopandas) (57.4.0)\n",
            "Requirement already satisfied: click>=4.0 in /usr/local/lib/python3.7/dist-packages (from fiona>=1.8->geopandas) (7.1.2)\n",
            "Requirement already satisfied: cligj>=0.5 in /usr/local/lib/python3.7/dist-packages (from fiona>=1.8->geopandas) (0.7.2)\n",
            "Requirement already satisfied: click-plugins>=1.0 in /usr/local/lib/python3.7/dist-packages (from fiona>=1.8->geopandas) (1.1.1)\n",
            "Requirement already satisfied: attrs>=17 in /usr/local/lib/python3.7/dist-packages (from fiona>=1.8->geopandas) (21.4.0)\n",
            "Requirement already satisfied: six>=1.7 in /usr/local/lib/python3.7/dist-packages (from fiona>=1.8->geopandas) (1.15.0)\n",
            "Requirement already satisfied: certifi in /usr/local/lib/python3.7/dist-packages (from fiona>=1.8->geopandas) (2021.10.8)\n",
            "Requirement already satisfied: munch in /usr/local/lib/python3.7/dist-packages (from fiona>=1.8->geopandas) (2.5.0)\n",
            "Requirement already satisfied: pytz>=2017.3 in /usr/local/lib/python3.7/dist-packages (from pandas>=0.25.0->geopandas) (2022.1)\n",
            "Requirement already satisfied: numpy>=1.17.3 in /usr/local/lib/python3.7/dist-packages (from pandas>=0.25.0->geopandas) (1.21.6)\n",
            "Requirement already satisfied: python-dateutil>=2.7.3 in /usr/local/lib/python3.7/dist-packages (from pandas>=0.25.0->geopandas) (2.8.2)\n"
          ]
        }
      ],
      "source": [
        "!pip install geopandas"
      ]
    },
    {
      "cell_type": "code",
      "source": [
        "!pip install geopy\n",
        "!pip install utm"
      ],
      "metadata": {
        "colab": {
          "base_uri": "https://localhost:8080/"
        },
        "id": "CuybKlDdxAzC",
        "outputId": "887a0079-500a-4b19-a636-e5b7ff841e43"
      },
      "execution_count": null,
      "outputs": [
        {
          "output_type": "stream",
          "name": "stdout",
          "text": [
            "Requirement already satisfied: geopy in /usr/local/lib/python3.7/dist-packages (1.17.0)\n",
            "Requirement already satisfied: geographiclib<2,>=1.49 in /usr/local/lib/python3.7/dist-packages (from geopy) (1.52)\n",
            "Requirement already satisfied: utm in /usr/local/lib/python3.7/dist-packages (0.7.0)\n"
          ]
        }
      ]
    },
    {
      "cell_type": "code",
      "source": [
        "#Import geopy packages\n",
        "\n",
        "from geopy.geocoders import Nominatim\n",
        "from geopy.exc import GeocoderTimedOut\n",
        "locator = Nominatim()"
      ],
      "metadata": {
        "id": "vXtJmHhoxIbR",
        "colab": {
          "base_uri": "https://localhost:8080/"
        },
        "outputId": "3c0d8a3f-dac8-4020-8546-cd886acf41d5"
      },
      "execution_count": null,
      "outputs": [
        {
          "output_type": "stream",
          "name": "stderr",
          "text": [
            "/usr/local/lib/python3.7/dist-packages/geopy/geocoders/osm.py:143: UserWarning: Using Nominatim with the default \"geopy/1.17.0\" `user_agent` is strongly discouraged, as it violates Nominatim's ToS https://operations.osmfoundation.org/policies/nominatim/ and may possibly cause 403 and 429 HTTP errors. Please specify a custom `user_agent` with `Nominatim(user_agent=\"my-application\")` or by overriding the default `user_agent`: `geopy.geocoders.options.default_user_agent = \"my-application\"`. In geopy 2.0 this will become an exception.\n",
            "  UserWarning\n"
          ]
        }
      ]
    },
    {
      "cell_type": "code",
      "source": [
        "\n",
        "df = df[df['STREET_ADDRESS'].notna()] #Drop rows with empty street address\n",
        "df = df[df['STREET_ADDRESS'].str.split(' ').str[-1].str.len() >= 2] #Rows rows with less than 4 words split\n",
        "df['VALID_ADD'] = \"VALID\"\n",
        "df['CITY'] = \"CHICAGO\" #Assign all city values to Chicago\n",
        "df['STATE'] = \"ILLINOIS\" #Assign all city values to Illinois\n",
        "\n",
        "COMMUNITY_AREA_nan = df[df['COMMUNITY_AREA'].isna()]\n",
        "COMMUNITY_AREA_nan['ERROR'] = 'Missing community area'\n",
        "print(COMMUNITY_AREA_nan.shape[0])\n",
        "\n",
        "for ind1,sr in df.iterrows():\n",
        "  splitarr = sr['STREET_ADDRESS'].split(\" \")\n",
        "  if(splitarr[-1] == \"ST\" and splitarr[2].isdigit()):\n",
        "    #print(splitarr[2][-1])\n",
        "    if len(splitarr)>4:\n",
        "      splitarr.pop(3)\n",
        "    if splitarr[2][-1] == '1':\n",
        "      splitarr[2] = splitarr[2]+\"st\"\n",
        "    elif splitarr[2][-1] == '2':\n",
        "      splitarr[2] = splitarr[2]+\"nd\"\n",
        "    elif splitarr[2][-1] == '3':\n",
        "      splitarr[2] = splitarr[2]+\"rd\"\n",
        "    else:\n",
        "      splitarr[2] = splitarr[2]+\"th\"\n",
        "    df.loc[ind1,['STREET_ADDRESS']] = ' '.join(splitarr)\n",
        "  "
      ],
      "metadata": {
        "id": "wLMi-p5c9T44"
      },
      "execution_count": null,
      "outputs": []
    },
    {
      "cell_type": "code",
      "source": [
        "from geopy.extra.rate_limiter import RateLimiter\n",
        "\n",
        "# 1 - conveneint function to delay between geocoding calls\n",
        "geocode = RateLimiter(locator.geocode, min_delay_seconds=1)\n",
        "#Check if address is valid and tag it\n",
        "for ind1,sr in df.iterrows():\n",
        "  address = sr['STREET_ADDRESS']+\",\"+sr['CITY']+\",\"+sr['STATE']\n",
        "  if pd.isna(sr['ZIP_CODE']):\n",
        "    try:\n",
        "      location = locator.geocode(address, timeout=8, exactly_one=False)\n",
        "      if location is None:\n",
        "        df.loc[ind1,['VALID_ADD']] = \"INVALID\"\n",
        "        continue;\n",
        "      sr['ZIP_CODE'] = str(location[0]).split(',')[-2]\n",
        "      df.loc[ind1,['ZIP_CODE']] = sr['ZIP_CODE']\n",
        "      #print(str(location[0]).split(',')[-1])\n",
        "      if(pd.isna(sr['LATITUDE']) or pd.isna(sr['LONGITUDE'])):\n",
        "        df.loc[ind1,['LATITUDE']] = location[0].latitude\n",
        "        df.loc[ind1,['LONGITUDE']] = location[0].longitude\n",
        "        #print(\"lat_long:\",ind1)\n",
        "    \n",
        "    except GeocoderTimedOut as e:\n",
        "      df.loc[ind1,['VALID_ADD']] = \"INVALID\"\n",
        "      print(\"Error: geocode failed on input %s with message \"%(sr['STREET_ADDRESS']))\n",
        " \n",
        "df[df['VALID_ADD'] == \"INVALID\"].shape[0]\n",
        "df = df[df['VALID_ADD'] != \"INVALID\"]\n"
      ],
      "metadata": {
        "colab": {
          "base_uri": "https://localhost:8080/",
          "height": 456
        },
        "id": "-5e4bJeZxY16",
        "outputId": "d9aee60c-c1fe-49d7-8a0a-9cf7aaf388a3"
      },
      "execution_count": null,
      "outputs": [
        {
          "output_type": "execute_result",
          "data": {
            "text/plain": [
              "       SR_NUMBER                    SR_TYPE SR_SHORT_CODE  \\\n",
              "0  SR22-00348638   Aircraft Noise Complaint           AVN   \n",
              "1  SR22-00348813  311 INFORMATION ONLY CALL        311IOC   \n",
              "2  SR22-00033271         No Water Complaint           WBJ   \n",
              "3  SR22-00033294   Graffiti Removal Request          GRAF   \n",
              "4  SR22-00032999  311 INFORMATION ONLY CALL        311IOC   \n",
              "\n",
              "                       OWNER_DEPARTMENT     STATUS            CREATED_DATE  \\\n",
              "0                              Aviation  Completed  03/03/2022 12:51:56 PM   \n",
              "1                     311 City Services  Completed  03/03/2022 01:10:55 PM   \n",
              "2  DWM - Department of Water Management   Canceled  01/07/2022 09:19:54 AM   \n",
              "3                Streets and Sanitation  Completed  01/07/2022 09:21:51 AM   \n",
              "4                     311 City Services  Completed  01/07/2022 08:47:13 AM   \n",
              "\n",
              "       LAST_MODIFIED_DATE             CLOSED_DATE       STREET_ADDRESS  \\\n",
              "0  03/03/2022 01:31:30 PM  03/03/2022 12:51:56 PM     10510 W ZEMKE RD   \n",
              "1  03/03/2022 01:32:04 PM  03/03/2022 01:10:55 PM  2111 W Lexington ST   \n",
              "2  01/07/2022 09:24:20 AM  01/07/2022 09:24:20 AM  5201 S MERRIMAC AVE   \n",
              "3  01/07/2022 09:21:58 AM  01/07/2022 09:21:58 AM    329 S FRANKLIN ST   \n",
              "4  01/07/2022 09:30:46 AM  01/07/2022 08:47:14 AM  2111 W Lexington ST   \n",
              "\n",
              "      CITY  ... SANITATION_DIVISION_DAYS CREATED_HOUR CREATED_DAY_OF_WEEK  \\\n",
              "0  CHICAGO  ...                      NaN           12                   5   \n",
              "1  CHICAGO  ...                      NaN           13                   5   \n",
              "2  CHICAGO  ...                      NaN            9                   6   \n",
              "3  CHICAGO  ...                      NaN            9                   6   \n",
              "4  CHICAGO  ...                      NaN            8                   6   \n",
              "\n",
              "  CREATED_MONTH  X_COORDINATE  Y_COORDINATE   LATITUDE  LONGITUDE  \\\n",
              "0             3  1.105376e+06  1.941043e+06  41.994897 -87.887752   \n",
              "1             3  1.162024e+06  1.896642e+06  41.872060 -87.680615   \n",
              "2             1  1.135587e+06  1.869443e+06  41.797933 -87.778323   \n",
              "3             1  1.174496e+06  1.898621e+06  41.877221 -87.634766   \n",
              "4             1  1.162024e+06  1.896642e+06  41.872060 -87.680615   \n",
              "\n",
              "                                   LOCATION VALID_ADD  \n",
              "0    (41.9948965498383, -87.88775165419361)     VALID  \n",
              "1  (41.872060463420134, -87.68061527067083)     VALID  \n",
              "2    (41.7979333264888, -87.77832289587248)     VALID  \n",
              "3    (41.8772206265366, -87.63476617277266)     VALID  \n",
              "4  (41.872060463420134, -87.68061527067083)     VALID  \n",
              "\n",
              "[5 rows x 38 columns]"
            ],
            "text/html": [
              "\n",
              "  <div id=\"df-6a972af2-5aee-4f62-9541-2d99f7b6ce15\">\n",
              "    <div class=\"colab-df-container\">\n",
              "      <div>\n",
              "<style scoped>\n",
              "    .dataframe tbody tr th:only-of-type {\n",
              "        vertical-align: middle;\n",
              "    }\n",
              "\n",
              "    .dataframe tbody tr th {\n",
              "        vertical-align: top;\n",
              "    }\n",
              "\n",
              "    .dataframe thead th {\n",
              "        text-align: right;\n",
              "    }\n",
              "</style>\n",
              "<table border=\"1\" class=\"dataframe\">\n",
              "  <thead>\n",
              "    <tr style=\"text-align: right;\">\n",
              "      <th></th>\n",
              "      <th>SR_NUMBER</th>\n",
              "      <th>SR_TYPE</th>\n",
              "      <th>SR_SHORT_CODE</th>\n",
              "      <th>OWNER_DEPARTMENT</th>\n",
              "      <th>STATUS</th>\n",
              "      <th>CREATED_DATE</th>\n",
              "      <th>LAST_MODIFIED_DATE</th>\n",
              "      <th>CLOSED_DATE</th>\n",
              "      <th>STREET_ADDRESS</th>\n",
              "      <th>CITY</th>\n",
              "      <th>...</th>\n",
              "      <th>SANITATION_DIVISION_DAYS</th>\n",
              "      <th>CREATED_HOUR</th>\n",
              "      <th>CREATED_DAY_OF_WEEK</th>\n",
              "      <th>CREATED_MONTH</th>\n",
              "      <th>X_COORDINATE</th>\n",
              "      <th>Y_COORDINATE</th>\n",
              "      <th>LATITUDE</th>\n",
              "      <th>LONGITUDE</th>\n",
              "      <th>LOCATION</th>\n",
              "      <th>VALID_ADD</th>\n",
              "    </tr>\n",
              "  </thead>\n",
              "  <tbody>\n",
              "    <tr>\n",
              "      <th>0</th>\n",
              "      <td>SR22-00348638</td>\n",
              "      <td>Aircraft Noise Complaint</td>\n",
              "      <td>AVN</td>\n",
              "      <td>Aviation</td>\n",
              "      <td>Completed</td>\n",
              "      <td>03/03/2022 12:51:56 PM</td>\n",
              "      <td>03/03/2022 01:31:30 PM</td>\n",
              "      <td>03/03/2022 12:51:56 PM</td>\n",
              "      <td>10510 W ZEMKE RD</td>\n",
              "      <td>CHICAGO</td>\n",
              "      <td>...</td>\n",
              "      <td>NaN</td>\n",
              "      <td>12</td>\n",
              "      <td>5</td>\n",
              "      <td>3</td>\n",
              "      <td>1.105376e+06</td>\n",
              "      <td>1.941043e+06</td>\n",
              "      <td>41.994897</td>\n",
              "      <td>-87.887752</td>\n",
              "      <td>(41.9948965498383, -87.88775165419361)</td>\n",
              "      <td>VALID</td>\n",
              "    </tr>\n",
              "    <tr>\n",
              "      <th>1</th>\n",
              "      <td>SR22-00348813</td>\n",
              "      <td>311 INFORMATION ONLY CALL</td>\n",
              "      <td>311IOC</td>\n",
              "      <td>311 City Services</td>\n",
              "      <td>Completed</td>\n",
              "      <td>03/03/2022 01:10:55 PM</td>\n",
              "      <td>03/03/2022 01:32:04 PM</td>\n",
              "      <td>03/03/2022 01:10:55 PM</td>\n",
              "      <td>2111 W Lexington ST</td>\n",
              "      <td>CHICAGO</td>\n",
              "      <td>...</td>\n",
              "      <td>NaN</td>\n",
              "      <td>13</td>\n",
              "      <td>5</td>\n",
              "      <td>3</td>\n",
              "      <td>1.162024e+06</td>\n",
              "      <td>1.896642e+06</td>\n",
              "      <td>41.872060</td>\n",
              "      <td>-87.680615</td>\n",
              "      <td>(41.872060463420134, -87.68061527067083)</td>\n",
              "      <td>VALID</td>\n",
              "    </tr>\n",
              "    <tr>\n",
              "      <th>2</th>\n",
              "      <td>SR22-00033271</td>\n",
              "      <td>No Water Complaint</td>\n",
              "      <td>WBJ</td>\n",
              "      <td>DWM - Department of Water Management</td>\n",
              "      <td>Canceled</td>\n",
              "      <td>01/07/2022 09:19:54 AM</td>\n",
              "      <td>01/07/2022 09:24:20 AM</td>\n",
              "      <td>01/07/2022 09:24:20 AM</td>\n",
              "      <td>5201 S MERRIMAC AVE</td>\n",
              "      <td>CHICAGO</td>\n",
              "      <td>...</td>\n",
              "      <td>NaN</td>\n",
              "      <td>9</td>\n",
              "      <td>6</td>\n",
              "      <td>1</td>\n",
              "      <td>1.135587e+06</td>\n",
              "      <td>1.869443e+06</td>\n",
              "      <td>41.797933</td>\n",
              "      <td>-87.778323</td>\n",
              "      <td>(41.7979333264888, -87.77832289587248)</td>\n",
              "      <td>VALID</td>\n",
              "    </tr>\n",
              "    <tr>\n",
              "      <th>3</th>\n",
              "      <td>SR22-00033294</td>\n",
              "      <td>Graffiti Removal Request</td>\n",
              "      <td>GRAF</td>\n",
              "      <td>Streets and Sanitation</td>\n",
              "      <td>Completed</td>\n",
              "      <td>01/07/2022 09:21:51 AM</td>\n",
              "      <td>01/07/2022 09:21:58 AM</td>\n",
              "      <td>01/07/2022 09:21:58 AM</td>\n",
              "      <td>329 S FRANKLIN ST</td>\n",
              "      <td>CHICAGO</td>\n",
              "      <td>...</td>\n",
              "      <td>NaN</td>\n",
              "      <td>9</td>\n",
              "      <td>6</td>\n",
              "      <td>1</td>\n",
              "      <td>1.174496e+06</td>\n",
              "      <td>1.898621e+06</td>\n",
              "      <td>41.877221</td>\n",
              "      <td>-87.634766</td>\n",
              "      <td>(41.8772206265366, -87.63476617277266)</td>\n",
              "      <td>VALID</td>\n",
              "    </tr>\n",
              "    <tr>\n",
              "      <th>4</th>\n",
              "      <td>SR22-00032999</td>\n",
              "      <td>311 INFORMATION ONLY CALL</td>\n",
              "      <td>311IOC</td>\n",
              "      <td>311 City Services</td>\n",
              "      <td>Completed</td>\n",
              "      <td>01/07/2022 08:47:13 AM</td>\n",
              "      <td>01/07/2022 09:30:46 AM</td>\n",
              "      <td>01/07/2022 08:47:14 AM</td>\n",
              "      <td>2111 W Lexington ST</td>\n",
              "      <td>CHICAGO</td>\n",
              "      <td>...</td>\n",
              "      <td>NaN</td>\n",
              "      <td>8</td>\n",
              "      <td>6</td>\n",
              "      <td>1</td>\n",
              "      <td>1.162024e+06</td>\n",
              "      <td>1.896642e+06</td>\n",
              "      <td>41.872060</td>\n",
              "      <td>-87.680615</td>\n",
              "      <td>(41.872060463420134, -87.68061527067083)</td>\n",
              "      <td>VALID</td>\n",
              "    </tr>\n",
              "  </tbody>\n",
              "</table>\n",
              "<p>5 rows × 38 columns</p>\n",
              "</div>\n",
              "      <button class=\"colab-df-convert\" onclick=\"convertToInteractive('df-6a972af2-5aee-4f62-9541-2d99f7b6ce15')\"\n",
              "              title=\"Convert this dataframe to an interactive table.\"\n",
              "              style=\"display:none;\">\n",
              "        \n",
              "  <svg xmlns=\"http://www.w3.org/2000/svg\" height=\"24px\"viewBox=\"0 0 24 24\"\n",
              "       width=\"24px\">\n",
              "    <path d=\"M0 0h24v24H0V0z\" fill=\"none\"/>\n",
              "    <path d=\"M18.56 5.44l.94 2.06.94-2.06 2.06-.94-2.06-.94-.94-2.06-.94 2.06-2.06.94zm-11 1L8.5 8.5l.94-2.06 2.06-.94-2.06-.94L8.5 2.5l-.94 2.06-2.06.94zm10 10l.94 2.06.94-2.06 2.06-.94-2.06-.94-.94-2.06-.94 2.06-2.06.94z\"/><path d=\"M17.41 7.96l-1.37-1.37c-.4-.4-.92-.59-1.43-.59-.52 0-1.04.2-1.43.59L10.3 9.45l-7.72 7.72c-.78.78-.78 2.05 0 2.83L4 21.41c.39.39.9.59 1.41.59.51 0 1.02-.2 1.41-.59l7.78-7.78 2.81-2.81c.8-.78.8-2.07 0-2.86zM5.41 20L4 18.59l7.72-7.72 1.47 1.35L5.41 20z\"/>\n",
              "  </svg>\n",
              "      </button>\n",
              "      \n",
              "  <style>\n",
              "    .colab-df-container {\n",
              "      display:flex;\n",
              "      flex-wrap:wrap;\n",
              "      gap: 12px;\n",
              "    }\n",
              "\n",
              "    .colab-df-convert {\n",
              "      background-color: #E8F0FE;\n",
              "      border: none;\n",
              "      border-radius: 50%;\n",
              "      cursor: pointer;\n",
              "      display: none;\n",
              "      fill: #1967D2;\n",
              "      height: 32px;\n",
              "      padding: 0 0 0 0;\n",
              "      width: 32px;\n",
              "    }\n",
              "\n",
              "    .colab-df-convert:hover {\n",
              "      background-color: #E2EBFA;\n",
              "      box-shadow: 0px 1px 2px rgba(60, 64, 67, 0.3), 0px 1px 3px 1px rgba(60, 64, 67, 0.15);\n",
              "      fill: #174EA6;\n",
              "    }\n",
              "\n",
              "    [theme=dark] .colab-df-convert {\n",
              "      background-color: #3B4455;\n",
              "      fill: #D2E3FC;\n",
              "    }\n",
              "\n",
              "    [theme=dark] .colab-df-convert:hover {\n",
              "      background-color: #434B5C;\n",
              "      box-shadow: 0px 1px 3px 1px rgba(0, 0, 0, 0.15);\n",
              "      filter: drop-shadow(0px 1px 2px rgba(0, 0, 0, 0.3));\n",
              "      fill: #FFFFFF;\n",
              "    }\n",
              "  </style>\n",
              "\n",
              "      <script>\n",
              "        const buttonEl =\n",
              "          document.querySelector('#df-6a972af2-5aee-4f62-9541-2d99f7b6ce15 button.colab-df-convert');\n",
              "        buttonEl.style.display =\n",
              "          google.colab.kernel.accessAllowed ? 'block' : 'none';\n",
              "\n",
              "        async function convertToInteractive(key) {\n",
              "          const element = document.querySelector('#df-6a972af2-5aee-4f62-9541-2d99f7b6ce15');\n",
              "          const dataTable =\n",
              "            await google.colab.kernel.invokeFunction('convertToInteractive',\n",
              "                                                     [key], {});\n",
              "          if (!dataTable) return;\n",
              "\n",
              "          const docLinkHtml = 'Like what you see? Visit the ' +\n",
              "            '<a target=\"_blank\" href=https://colab.research.google.com/notebooks/data_table.ipynb>data table notebook</a>'\n",
              "            + ' to learn more about interactive tables.';\n",
              "          element.innerHTML = '';\n",
              "          dataTable['output_type'] = 'display_data';\n",
              "          await google.colab.output.renderOutput(dataTable, element);\n",
              "          const docLink = document.createElement('div');\n",
              "          docLink.innerHTML = docLinkHtml;\n",
              "          element.appendChild(docLink);\n",
              "        }\n",
              "      </script>\n",
              "    </div>\n",
              "  </div>\n",
              "  "
            ]
          },
          "metadata": {},
          "execution_count": 83
        }
      ]
    },
    {
      "cell_type": "code",
      "source": [
        "import utm\n",
        "import math\n",
        "x,y,zone,dir = utm.from_latlon(41.728913, -87.632880)\n",
        "print(x,y)"
      ],
      "metadata": {
        "colab": {
          "base_uri": "https://localhost:8080/"
        },
        "id": "IpwMDnxUAa-_",
        "outputId": "eaac1304-d604-4a65-ed55-5c21061fa9f9"
      },
      "execution_count": null,
      "outputs": [
        {
          "output_type": "stream",
          "name": "stdout",
          "text": [
            "447364.38908533275 4619871.956555315\n"
          ]
        }
      ]
    },
    {
      "cell_type": "code",
      "source": [
        "df.loc[df['LATITUDE'].isnull(),'value_is_NaN'] = 'Yes'\n",
        "df = df[df['value_is_NaN'] != \"Yes\"]\n",
        "print(df.shape[0])\n",
        "df['LOCATION'] = df[['LATITUDE', 'LONGITUDE']].apply(tuple, axis=1)\n",
        "df['X_COORDINATE','Y_COORDINATE'] = df['LOCATION'].apply(lambda loc: utm.from_latlon(tuple(loc)[0],tuple(loc)[1]) if loc else None)\n"
      ],
      "metadata": {
        "id": "SdHjvj_Bxtbc",
        "colab": {
          "base_uri": "https://localhost:8080/"
        },
        "outputId": "9cbe50ee-8328-40ac-e088-af7a586a3d80"
      },
      "execution_count": null,
      "outputs": [
        {
          "output_type": "stream",
          "name": "stdout",
          "text": [
            "1242124\n"
          ]
        }
      ]
    },
    {
      "cell_type": "code",
      "source": [
        "df[['X_COORDINATE','Y_COORDINATE','temp','temp2']] = pd.DataFrame(df['X_COORDINATE','Y_COORDINATE'].tolist(), index=df.index)\n"
      ],
      "metadata": {
        "id": "pcxTW8vcc7bG"
      },
      "execution_count": null,
      "outputs": []
    },
    {
      "cell_type": "code",
      "source": [
        "#Drop unnecessary columns\n",
        "del df['VALID_ADD'],df['value_is_NaN'],df['temp'],df['temp2'],df['SANITATION_DIVISION_DAYS'],df['X_COORDINATE','Y_COORDINATE'],df['ELECTRICAL_DISTRICT'],df['ELECTRICITY_GRID']"
      ],
      "metadata": {
        "id": "iqJK1X8-N3cJ"
      },
      "execution_count": null,
      "outputs": []
    },
    {
      "cell_type": "code",
      "source": [
        "from shapely.geometry import shape\n",
        "import math\n",
        "import geopandas\n",
        "from shapely.geometry import Polygon, LineString, Point,mapping\n",
        "import shapely.wkt\n",
        "import numpy as np\n",
        "\n",
        "\n",
        "for ind1,sr in df.iterrows():\n",
        "  #Get missing police information from CommAreas data\n",
        "  if(math.isnan(sr['COMMUNITY_AREA'])):\n",
        "    for ind3,commA in communityArea.iterrows():\n",
        "      P = shapely.wkt.loads(commA['the_geom'])\n",
        "      pt = Point(round(sr['LONGITUDE'],1),round(sr['LATITUDE'],1))\n",
        "      s = geopandas.GeoSeries([P])\n",
        "      if(pt.within(shape(P))):\n",
        "          df.loc[ind1,['COMMUNITY_AREA']] = commA['AREA_NUM_1']\n",
        "        \n",
        "  \n",
        " #Get missing police information from policeBeat data\n",
        "  if(math.isnan(sr['POLICE_BEAT'])):\n",
        "    for ind2,rec in policeBeats.iterrows():\n",
        "      P = shapely.wkt.loads(rec['the_geom'])\n",
        "      pt = Point(round(sr['LONGITUDE'],1),round(sr['LATITUDE'],1))\n",
        "      s = geopandas.GeoSeries([P])\n",
        "      if(pt.within(P)):\n",
        "        df.loc[ind1,['POLICE_DISTRICT']] = rec['DISTRICT']\n",
        "        df.loc[ind1,['POLICE_SECTOR']] = rec['SECTOR']\n",
        "        df.loc[ind1,['POLICE_BEAT']] = rec['BEAT_NUM']\n",
        "\n",
        "\n",
        "  #Get missing ward information from wards2015 data\n",
        "  if(math.isnan(sr['WARD'])):\n",
        "    for ind4,ward in wards.iterrows():\n",
        "      P = shapely.wkt.loads(ward['the_geom'])\n",
        "      pt = Point(round(sr['LONGITUDE'],1),round(sr['LATITUDE'],1))\n",
        "      s = geopandas.GeoSeries([P])\n",
        "      if(pt.within(P)):\n",
        "        df.loc[ind1,['WARD']] = ward['WARD']\n",
        "\n"
      ],
      "metadata": {
        "id": "LvM2tBEIb4IO"
      },
      "execution_count": null,
      "outputs": []
    },
    {
      "cell_type": "code",
      "source": [
        "df.to_csv('output.csv')  "
      ],
      "metadata": {
        "id": "xuy_jhU4Abfc"
      },
      "execution_count": null,
      "outputs": []
    },
    {
      "cell_type": "markdown",
      "source": [
        "# VALIDATIONS\n"
      ],
      "metadata": {
        "id": "bZO9fKkGrw84"
      }
    },
    {
      "cell_type": "code",
      "source": [
        "COMMUNITY_AREA_nan = df[df['COMMUNITY_AREA'].isna()]\n",
        "COMMUNITY_AREA_nan['ERROR'] = 'Missing community area'\n",
        "print(\"No of null community: \" ,COMMUNITY_AREA_nan.shape[0])\n",
        "WARD_nan = df[df['WARD'].isna()]\n",
        "WARD_nan['ERROR'] = 'Missing ward data'\n",
        "print(\"No of null wards: \" ,WARD_nan.shape[0])\n",
        "POLICE_SECTOR_nan = df[df['POLICE_SECTOR'].isna()]\n",
        "POLICE_SECTOR_nan['ERROR'] = 'Missing police data'\n",
        "print(\"No of null police sectors: \" ,POLICE_SECTOR_nan.shape[0]) \n",
        "POLICE_BEAT_nan = df[df['POLICE_BEAT'].isna()]\n",
        "POLICE_BEAT_nan['ERROR'] = 'Missing police beat data'\n",
        "print(\"No of null police beats: \" ,POLICE_BEAT_nan.shape[0]) \n",
        "invalid_df = pd.concat([COMMUNITY_AREA_nan, WARD_nan, POLICE_SECTOR_nan, POLICE_BEAT_nan])\n",
        "invalid_df.to_csv('validationReport.csv') "
      ],
      "metadata": {
        "colab": {
          "base_uri": "https://localhost:8080/"
        },
        "id": "JwnO5HjHddJo",
        "outputId": "77520cc3-d5aa-4fbc-e623-c92c6945969d"
      },
      "execution_count": null,
      "outputs": [
        {
          "output_type": "stream",
          "name": "stdout",
          "text": [
            "No of null community:  181\n",
            "No of null wards:  144\n",
            "No of null police sectors:  151\n",
            "No of null police beats:  151\n"
          ]
        },
        {
          "output_type": "stream",
          "name": "stderr",
          "text": [
            "/usr/local/lib/python3.7/dist-packages/ipykernel_launcher.py:2: SettingWithCopyWarning: \n",
            "A value is trying to be set on a copy of a slice from a DataFrame.\n",
            "Try using .loc[row_indexer,col_indexer] = value instead\n",
            "\n",
            "See the caveats in the documentation: https://pandas.pydata.org/pandas-docs/stable/user_guide/indexing.html#returning-a-view-versus-a-copy\n",
            "  \n",
            "/usr/local/lib/python3.7/dist-packages/ipykernel_launcher.py:5: SettingWithCopyWarning: \n",
            "A value is trying to be set on a copy of a slice from a DataFrame.\n",
            "Try using .loc[row_indexer,col_indexer] = value instead\n",
            "\n",
            "See the caveats in the documentation: https://pandas.pydata.org/pandas-docs/stable/user_guide/indexing.html#returning-a-view-versus-a-copy\n",
            "  \"\"\"\n",
            "/usr/local/lib/python3.7/dist-packages/ipykernel_launcher.py:8: SettingWithCopyWarning: \n",
            "A value is trying to be set on a copy of a slice from a DataFrame.\n",
            "Try using .loc[row_indexer,col_indexer] = value instead\n",
            "\n",
            "See the caveats in the documentation: https://pandas.pydata.org/pandas-docs/stable/user_guide/indexing.html#returning-a-view-versus-a-copy\n",
            "  \n",
            "/usr/local/lib/python3.7/dist-packages/ipykernel_launcher.py:11: SettingWithCopyWarning: \n",
            "A value is trying to be set on a copy of a slice from a DataFrame.\n",
            "Try using .loc[row_indexer,col_indexer] = value instead\n",
            "\n",
            "See the caveats in the documentation: https://pandas.pydata.org/pandas-docs/stable/user_guide/indexing.html#returning-a-view-versus-a-copy\n",
            "  # This is added back by InteractiveShellApp.init_path()\n"
          ]
        }
      ]
    }
  ]
}